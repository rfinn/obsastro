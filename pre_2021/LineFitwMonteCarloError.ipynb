{
 "metadata": {
  "name": "",
  "signature": "sha256:9d2d08bd511a35f3f40ff0da8330797b8a5bb7454b4cd6248613cfd1564fe00a"
 },
 "nbformat": 3,
 "nbformat_minor": 0,
 "worksheets": [
  {
   "cells": [
    {
     "cell_type": "heading",
     "level": 1,
     "metadata": {},
     "source": [
      "Estimating the Error on a Best-Fit Line Slope"
     ]
    },
    {
     "cell_type": "markdown",
     "metadata": {},
     "source": [
      "Here is a method for estimating the error on the slope that you obtain with np.polyfit.\n",
      "\n"
     ]
    },
    {
     "cell_type": "code",
     "collapsed": false,
     "input": [
      "import numpy as np\n",
      "from matplotlib import pyplot as plt\n",
      "from scipy.stats.mstats import normaltest\n",
      "%matplotlib inline\n",
      "\n",
      "# create a fake data set\n",
      "x=np.arange(1,60,2.)\n",
      "# create linear data set with random poisson errors\n",
      "y=10.*x + np.random.normal(loc=0,scale=np.sqrt(x),size=len(x))\n",
      "yerr=np.abs(np.random.normal(x,scale=np.sqrt(x),size=len(x)))\n",
      "plt.figure()\n",
      "plt.plot(x,y,'bo')\n",
      "plt.errorbar(x,y,yerr,fmt=None)\n",
      "c=np.polyfit(x,y,1)\n",
      "xfit=np.linspace(0,max(x),100)\n",
      "yfit=np.polyval(c,xfit)\n",
      "plt.plot(xfit,yfit,'r-')"
     ],
     "language": "python",
     "metadata": {},
     "outputs": [
      {
       "metadata": {},
       "output_type": "pyout",
       "prompt_number": 38,
       "text": [
        "[<matplotlib.lines.Line2D at 0x10c0b46d0>]"
       ]
      },
      {
       "metadata": {},
       "output_type": "display_data",
       "png": "[encoded data removed]",
       "text": [
        "<matplotlib.figure.Figure at 0x10a5a6190>"
       ]
      }
     ],
     "prompt_number": 38
    },
    {
     "cell_type": "code",
     "collapsed": false,
     "input": [
      "junk=np.random.normal(loc=5,scale=2,size=1000)\n",
      "plt.figure()\n",
      "t=plt.hist(junk,bins=30)\n",
      "print np.mean(junk),np.std(junk)"
     ],
     "language": "python",
     "metadata": {},
     "outputs": [
      {
       "metadata": {},
       "output_type": "display_data",
       "png": "[encoded data removed]",
       "text": [
        "<matplotlib.figure.Figure at 0x10c0c9310>"
       ]
      }
     ],
     "prompt_number": 50
    },
    {
     "cell_type": "code",
     "collapsed": false,
     "input": [
      "print c[0]"
     ],
     "language": "python",
     "metadata": {},
     "outputs": [
      {
       "output_type": "stream",
       "stream": "stdout",
       "text": [
        "9.95914378114\n"
       ]
      }
     ],
     "prompt_number": 51
    },
    {
     "cell_type": "markdown",
     "metadata": {},
     "source": [
      "What is the error in the measured slope?"
     ]
    },
    {
     "cell_type": "code",
     "collapsed": false,
     "input": [
      "# create montecarlo realizations of dataset\n",
      "# fit the slope for each realization\n",
      "csim=np.zeros(1000)\n",
      "for i in range(len(csim)):\n",
      "    ysim=np.random.normal(y,scale=yerr,size=len(y))\n",
      "    csim[i]=np.polyfit(x,ysim,1)[0]\n",
      "plt.figure()\n",
      "t=plt.hist(csim)"
     ],
     "language": "python",
     "metadata": {},
     "outputs": [
      {
       "metadata": {},
       "output_type": "display_data",
       "png": "[encoded data removed]",
       "text": [
        "<matplotlib.figure.Figure at 0x10c9c09d0>"
       ]
      }
     ],
     "prompt_number": 53
    },
    {
     "cell_type": "code",
     "collapsed": false,
     "input": [
      "cave=np.mean(csim)\n",
      "cstd=np.std(csim)\n",
      "q1=50-34 # mean minus one std\n",
      "lower=np.percentile(csim,q1)\n",
      "q2=50+34 # mean minus one std\n",
      "upper=np.percentile(csim,q2)\n",
      "print 'mean = %5.2f, std = %5.2f'%(cave,cstd)\n",
      "print 'confidence interval from sorted list of MC fit values:'\n",
      "print 'lower = %5.2f (%5.2f), upper = %5.2f (%5.2f)'%(lower,cave-cstd, upper,cave+cstd)\n",
      "k,pnorm=normaltest(csim)\n",
      "print 'probability that distribution of slopes is normal = %5.2f'%(pnorm)"
     ],
     "language": "python",
     "metadata": {},
     "outputs": [
      {
       "output_type": "stream",
       "stream": "stdout",
       "text": [
        "mean =  9.95, std =  0.38\n",
        "confidence interval from sorted list of MC fit values:\n",
        "lower =  9.56 ( 9.57), upper = 10.34 (10.34)\n",
        "probability that distribution of slopes is normal =  0.08\n"
       ]
      }
     ],
     "prompt_number": 54
    },
    {
     "cell_type": "code",
     "collapsed": false,
     "input": [],
     "language": "python",
     "metadata": {},
     "outputs": [],
     "prompt_number": 37
    }
   ],
   "metadata": {}
  }
 ]
}
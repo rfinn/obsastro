{
 "cells": [
  {
   "cell_type": "code",
   "execution_count": 1,
   "metadata": {
    "collapsed": false
   },
   "outputs": [],
   "source": [
    "import numpy as np\n",
    "from matplotlib import pyplot as plt\n",
    "import astropy.units as u"
   ]
  },
  {
   "cell_type": "markdown",
   "metadata": {},
   "source": [
    "## Problem 3.40 ##"
   ]
  },
  {
   "cell_type": "code",
   "execution_count": 2,
   "metadata": {
    "collapsed": false
   },
   "outputs": [],
   "source": [
    "L = np.array([93.8,70.3,45.7,21.2],'f')*u.cm\n",
    "delta_L = 0.1*u.cm\n",
    "T = np.array([1.944,1.681,1.358,0.922],'f')*u.s\n",
    "delta_T = 0.001*u.s"
   ]
  },
  {
   "cell_type": "markdown",
   "metadata": {},
   "source": [
    "The period of a pendulum is given by\n",
    "\n",
    "$T = 2 \\pi\\sqrt{\\frac{L}{g}} $ \n",
    "\n",
    "Solving for g gives:\n",
    "\n",
    "$ g = \\frac{4 \\pi^2}{T^2} L $\n"
   ]
  },
  {
   "cell_type": "code",
   "execution_count": 3,
   "metadata": {
    "collapsed": false
   },
   "outputs": [
    {
     "name": "stdout",
     "output_type": "stream",
     "text": [
      "[ 979.87359619  982.15405273  978.30963135  984.54089355] cm / s2\n"
     ]
    }
   ],
   "source": [
    "g = 4*np.pi**2/T**2*L\n",
    "print(g)"
   ]
  },
  {
   "cell_type": "markdown",
   "metadata": {},
   "source": [
    "The uncertainty in g is:\n",
    "\n",
    "$\\delta g = \\sqrt{\\left( \\frac{\\partial g}{\\partial T} \\delta T \\right)^2 + \\left( \\frac{\\partial g}{\\partial L} \\delta L \\right)^2} $\n",
    "\n",
    "The partial derivatives are:\n",
    "\n",
    "$ \\frac{\\partial g}{\\partial T} = \\frac{-2}{T^3} ~ 4 \\pi^2 L $\n",
    "\n",
    "and\n",
    "\n",
    "$ \\frac{\\partial g}{\\partial L} =  \\frac{4 \\pi^2}{T^2} $"
   ]
  },
  {
   "cell_type": "code",
   "execution_count": 4,
   "metadata": {
    "collapsed": false
   },
   "outputs": [],
   "source": [
    "partial_g_T = -2./T**3 * 4*np.pi**2*L\n",
    "partial_g_L = 4*np.pi**2/T**2"
   ]
  },
  {
   "cell_type": "code",
   "execution_count": 5,
   "metadata": {
    "collapsed": false
   },
   "outputs": [
    {
     "name": "stdout",
     "output_type": "stream",
     "text": [
      "[ 1.45173752  1.82135522  2.58043027  5.11159039] cm / s2\n"
     ]
    }
   ],
   "source": [
    "delta_g = np.sqrt(partial_g_T**2*delta_T**2 + partial_g_L**2*delta_L**2)\n",
    "print(delta_g)"
   ]
  },
  {
   "cell_type": "markdown",
   "metadata": {},
   "source": [
    "Print result using astropy.Table to help with formatting"
   ]
  },
  {
   "cell_type": "code",
   "execution_count": 6,
   "metadata": {
    "collapsed": false
   },
   "outputs": [],
   "source": [
    "from astropy.table import Table\n",
    "output = Table([L,T,g,delta_L/L*100*u.pct,delta_T/T*100*u.pct,delta_g/g*100*u.pct,g,delta_g],names=('L','T','g','dL/L','dT/T','dg/g','g+/-','delta_g'))\n",
    "output['g'].format = '.03f'\n",
    "output['dL/L'].format = '.2f'\n",
    "output['dT/T'].format = '.2f'\n",
    "output['dg/g'].format = '.2f'\n",
    "output['g+/-'].format = '.0f'\n",
    "output['delta_g'].format = '.1f'"
   ]
  },
  {
   "cell_type": "code",
   "execution_count": 7,
   "metadata": {
    "collapsed": false
   },
   "outputs": [
    {
     "name": "stdout",
     "output_type": "stream",
     "text": [
      " L     T      g    dL/L dT/T dg/g   g+/-  delta_g\n",
      " cm    s   cm / s2  %    %    %   cm / s2 cm / s2\n",
      "---- ----- ------- ---- ---- ---- ------- -------\n",
      "93.8 1.944 979.874 0.11 0.05 0.15     980     1.5\n",
      "70.3 1.681 982.154 0.14 0.06 0.19     982     1.8\n",
      "45.7 1.358 978.310 0.22 0.07 0.26     978     2.6\n",
      "21.2 0.922 984.541 0.47 0.11 0.52     985     5.1\n"
     ]
    }
   ],
   "source": [
    "print output"
   ]
  },
  {
   "cell_type": "markdown",
   "metadata": {},
   "source": [
    "## Problem 3.46 ##"
   ]
  },
  {
   "cell_type": "code",
   "execution_count": 8,
   "metadata": {
    "collapsed": true
   },
   "outputs": [],
   "source": [
    "#Given:\n",
    "x = 6.0\n",
    "delta_x = 0.1\n",
    "y = 3.0\n",
    "delta_y = 0.1"
   ]
  },
  {
   "cell_type": "markdown",
   "metadata": {},
   "source": [
    "The function q depends on x and y:\n",
    "\n",
    "$ q = x y + x^2/y $"
   ]
  },
  {
   "cell_type": "code",
   "execution_count": 9,
   "metadata": {
    "collapsed": false
   },
   "outputs": [
    {
     "name": "stdout",
     "output_type": "stream",
     "text": [
      "q =  30.0\n"
     ]
    }
   ],
   "source": [
    "q = x*y + x**2/y\n",
    "print 'q = ',q"
   ]
  },
  {
   "cell_type": "markdown",
   "metadata": {},
   "source": [
    "Calculate the uncertainty in q:\n",
    "\n",
    "$\\delta q = \\sqrt{\\left( \\frac{\\partial q}{\\partial x} \\delta x \\right)^2 + \\left( \\frac{\\partial q}{\\partial y} \\delta y \\right)^2} $\n",
    "\n",
    "where the partial deriviates are:\n",
    "\n",
    "$\\frac{\\partial q}{\\partial x} = y + \\frac{2x}{y}$\n",
    "\n",
    "$\\frac{\\partial q}{\\partial y} = x + \\frac{-2x^2}{y^2}$"
   ]
  },
  {
   "cell_type": "code",
   "execution_count": 10,
   "metadata": {
    "collapsed": true
   },
   "outputs": [],
   "source": [
    "partial_q_x = y + 2*x/y\n",
    "partial_q_y = x - 2*x**2/y**2"
   ]
  },
  {
   "cell_type": "code",
   "execution_count": 11,
   "metadata": {
    "collapsed": true
   },
   "outputs": [],
   "source": [
    "delta_q = np.sqrt(partial_q_x**2*delta_x**2 + partial_q_y**2*delta_y**2)"
   ]
  },
  {
   "cell_type": "code",
   "execution_count": 12,
   "metadata": {
    "collapsed": false
   },
   "outputs": [
    {
     "name": "stdout",
     "output_type": "stream",
     "text": [
      "q = 30.0 +/- 0.7\n"
     ]
    }
   ],
   "source": [
    "print 'q = %.1f +/- %.1f'%(q,delta_q)"
   ]
  }
 ],
 "metadata": {
  "kernelspec": {
   "display_name": "Python [conda env:astroconda]",
   "language": "python",
   "name": "conda-env-astroconda-py"
  },
  "language_info": {
   "codemirror_mode": {
    "name": "ipython",
    "version": 2
   },
   "file_extension": ".py",
   "mimetype": "text/x-python",
   "name": "python",
   "nbconvert_exporter": "python",
   "pygments_lexer": "ipython2",
   "version": "2.7.11"
  }
 },
 "nbformat": 4,
 "nbformat_minor": 2
}

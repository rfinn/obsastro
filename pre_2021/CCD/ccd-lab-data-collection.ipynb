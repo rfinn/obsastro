{
 "cells": [
  {
   "cell_type": "markdown",
   "metadata": {},
   "source": [
    "## If you are using MaxIm DL on the Windows Laptop ##\n",
    "\n",
    "*These instructions were written by Sandy Spicer*\n",
    "\n",
    "* Launch MaxIm DL Pro 6\n",
    "\n",
    "* Plug power and usb into the CCD and laptop\n",
    "\n",
    "* Select View -> Camera control window -> Setup tab -> Setup Camera 1 -> Camera model = SBIG Universal -> Connect to ST-L-11K -> Click OK -> Deselect Auto-dark Subframe Extraction -> Click OK -> Setup Filter -> Change the fourth and fifth filter names to Halpha and OIII -> Connect\n",
    "\n",
    "* Setup -> Cooler for Camera to -20 degrees -> Coolers On \n",
    "\n",
    "* Select single exposure -> Expose tab - Select Filter Wheel to change filters\n",
    "\n",
    "* Select Start to take an image\n",
    "\n",
    "* Expose -> Select Options -> Select No Calibration -> Set Image Save Path -> Click new folder and create the folder as your group name -> Select Autosave all exposures\n",
    "\n",
    "* Select subframe on and modifiy width and height both to 1000\n",
    "\n",
    "* Under Expose tab, select Autosave -> Select Autosave Filename to modify the filename that each exposure is saved as (ex: bias) -> Change Type to Bias -> Click Apply -> Click Ok -> Click Start\n",
    "\n",
    "* Select Autosave -> Change filename to dark -> Change type to Dark -> Click Apply -> Click Ok -> Click Start\n",
    "\t\n"
   ]
  },
  {
   "cell_type": "markdown",
   "metadata": {},
   "source": [
    "## If you are using CCDops Lite on a Mac Laptop ##\n",
    "\n",
    "\n",
    "To use the CCD, turn on the laptop provided and run the CCDOps program. If you are working with a your own laptop (only recommended if you have a mac), you will need to first install CCDOps Lite and the Universal Binary SBIG Driver Installer on one of the mac laptops. The software is available for free from SBIG (http://www.sbig.com/Software.html).\n",
    "\n",
    "The **Grab** command is what actually acquires an image. The read noise and dark count can be obtained no matter what the camera is looking at (note that our device has a minimum exposure time of 0.12 seconds). To get flat frames or actual pictures, though, you will have to give the camera something to image. Flat frames require something with uniform illumination (what would be good?). To be useful at correcting telescope images, the Flat Frames must themselves be taken with the telescope; in this lab we are just trying to quantify what the pixel-to-pixel variations are.\n",
    "\n",
    "We are going to start with the camera by itself. You may want to use one of the filters that is installed in the color wheel to reduce the amount of light falling on the CCD. By pressing Cntl-#, you can rotate the wheel to a specific filter. Check for yourself what filter corresponds to each number. (Note: the filters have coatings, so their reflected color is not a good indication of what they transmit. Be sure to look through the filters to determine which is what.) If you have already covered the camera aperture and can’t see the filter wheel anymore, be sure to LISTEN to be certain the wheel is turning when you want it to.\n",
    "\n",
    "\n",
    "* Launch CCDops Lite\n",
    "* connect usb cable from CCD to laptop\n",
    "* connect to CCD within CCDops\n",
    "* check setup of filter wheel\n",
    "* set temperature\n",
    "    * Link/Setup -> Setpoint = -10 -> Update (be sure to click enable)\n",
    "* Grab/Focus Menu\n",
    "    * Exposure - set to your desired time\n",
    "    * Dark Frame -> None\n",
    "    * Resolution -> High, Full\n",
    "    * Active CCD -> Imaging\n",
    "    * Grab to take an image\n",
    "    * Focus to take images continuously\n",
    "* To save your data: \n",
    "    * File -> Export As\n",
    "    * select the appropriate directory (create one for your team)\n",
    "    * Save file in fits format\n"
   ]
  },
  {
   "cell_type": "markdown",
   "metadata": {},
   "source": [
    "## Collecting Data ##\n",
    "\n",
    "In the data collection part of the lab, you should obtain the following images:\n",
    "\n",
    "* **Bias Frames** \n",
    "    - 2 bias frames.  A bias frame is an image taken with no light hitting the CCD and an exposure time of zero seconds.  \n",
    "    - These frames show you the counts that you get just from the electronics.\n",
    "    - Name these frames biasXX.fits, where XX is the sequence number (like bias01.fits, bias02.fits, etc)\n",
    "\n",
    "* **Dark Frames - warm:**\n",
    "    - a series of images with increasing exposure time, with no light hitting the detector and the temperature of the CCD set to room temperature (20 C)\n",
    "    - Name these frames darkwarmXX.fits, where XX is the exposure time (like darkwarm01.fits, darkwarm05.fits, etc)\n",
    "\n",
    "* ** Dark Frames - cold:**\n",
    "    - a series of images with increasing exposure time, with no light hitting the detector and the temperature of the CCD set to -5 C \n",
    "    - Name these frames darkcoldXX.fits, where XX is the exposure time (like darkcold01.fits, darkcold05.fits, etc)\n",
    "\n",
    "* At this point you should create a pinhole cover for the CCD and take the rest of the data through the pinhole aperture.  Make sure the camera is in the same orientation when taking the pinhole image and flat field exposures.\n",
    "\n",
    "* ** Light Frames:**\n",
    "    - a series of images of increasing exposure time to measure the linearity of your detector.  This will be used to characterize the linearity of your detector.\n",
    "    - Name these frames lightXX.fits, where XX is the exposure time (like light01.fits, light05.fits, etc)\n",
    "\n",
    "* ** Image Using a Pinhole Camera: **\n",
    "    - Limit the light entering the CCD using a small pinhole entrance.\n",
    "    - Take an three images in each of the B, V, and R filters. \n",
    "\n",
    "* ** Flat Field: **\n",
    "    - This is a frames taken while the CCD is looking at an evenly illuminated screen.\n",
    "    - Take five images in each filter that you used to create the pinhole camera image (e.g. B, V, and R).\n",
    "    - Name these frames flatRXX.fits, where XX is the exposure number (like flatR01.fits, flatR02.fits, flatV01.fits, etc)\n",
    "\n",
    "\n",
    "## Transferring the Data ##\n",
    "When you have finished collecting your data, you need to move the data to a place where you can analyze the data using python (nanook or your own laptop).  You can move the data to a shared google drive folder, or use scp to copy the data to nanook or your laptop.  For example, you would type\n",
    "\n",
    "    scp *.fits siena_username@nanook.physics.siena.edu:ccd_lab/.\n",
    "    \n"
   ]
  },
  {
   "cell_type": "markdown",
   "metadata": {
    "collapsed": true
   },
   "source": [
    "## Filter Wheels ##\n",
    "\n",
    "### Wide-Field STL 11000M ###\n",
    "Filter wheel large format ccd:\n",
    "\n",
    "1. R\n",
    "2. G\n",
    "3. B\n",
    "4. H$\\alpha$\n",
    "5. OIII\n",
    "\n",
    "\n",
    "### ST-7XE Camera ###\n",
    "\n",
    "1. R\n",
    "2. G\n",
    "3. B\n",
    "4. U\n",
    "5. B\n",
    "6. V\n",
    "7. R\n",
    "8. I\n",
    "9. H$\\alpha$\n",
    "10. clear\n"
   ]
  },
  {
   "cell_type": "code",
   "execution_count": null,
   "metadata": {
    "collapsed": true
   },
   "outputs": [],
   "source": []
  }
 ],
 "metadata": {
  "kernelspec": {
   "display_name": "Python [default]",
   "language": "python",
   "name": "python2"
  },
  "language_info": {
   "codemirror_mode": {
    "name": "ipython",
    "version": 2
   },
   "file_extension": ".py",
   "mimetype": "text/x-python",
   "name": "python",
   "nbconvert_exporter": "python",
   "pygments_lexer": "ipython2",
   "version": "2.7.13"
  }
 },
 "nbformat": 4,
 "nbformat_minor": 2
}
